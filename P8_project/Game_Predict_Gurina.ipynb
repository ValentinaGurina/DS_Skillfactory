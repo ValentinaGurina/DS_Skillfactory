{
 "cells": [
  {
   "cell_type": "code",
   "execution_count": 1,
   "metadata": {},
   "outputs": [],
   "source": [
    "import numpy as np"
   ]
  },
  {
   "attachments": {},
   "cell_type": "markdown",
   "metadata": {},
   "source": []
  },
  {
   "cell_type": "code",
   "execution_count": 2,
   "metadata": {},
   "outputs": [],
   "source": [
    "def game_core_v3(number: int = 1) -> int:\n",
    "    \"\"\"Сначала устанавливаем любое random число,если оно больше загаданного,\n",
    "    то в следующем дропе устанавливаем его в качестве максимального значения, \n",
    "    если меньше - то устанавливаем его как минимальное значение следующего дропа.\n",
    "    \n",
    "       Функция принимает загаданное число и возвращает число попыток\n",
    "    Args:\n",
    "        number (int, optional): Загаданное число. Defaults to 1.\n",
    "\n",
    "    Returns:\n",
    "        int: Число попыток\n",
    "    \"\"\"\n",
    "    # Ваш код начинается здесь\n",
    "    count = 0\n",
    "    min_num = 1\n",
    "    max_num = 101\n",
    "    predict = np.random.randint(min_num, max_num)\n",
    "    \n",
    "    while number != predict:\n",
    "        count += 1\n",
    "        if number > predict:\n",
    "            min_num = predict\n",
    "            predict = np.random.randint(min_num, max_num)\n",
    "        elif number < predict:\n",
    "            max_num = predict\n",
    "            predict = np.random.randint(min_num, max_num)\n",
    "    # Ваш код заканчивается здесь\n",
    "\n",
    "    return count"
   ]
  },
  {
   "cell_type": "code",
   "execution_count": 3,
   "metadata": {},
   "outputs": [
    {
     "name": "stdout",
     "output_type": "stream",
     "text": [
      "8\n"
     ]
    }
   ],
   "source": [
    "print(game_core_v3(6))"
   ]
  }
 ],
 "metadata": {
  "kernelspec": {
   "display_name": "Python 3",
   "language": "python",
   "name": "python3"
  },
  "language_info": {
   "codemirror_mode": {
    "name": "ipython",
    "version": 3
   },
   "file_extension": ".py",
   "mimetype": "text/x-python",
   "name": "python",
   "nbconvert_exporter": "python",
   "pygments_lexer": "ipython3",
   "version": "3.9.10"
  },
  "orig_nbformat": 4
 },
 "nbformat": 4,
 "nbformat_minor": 2
}
