{
 "cells": [
  {
   "attachments": {},
   "cell_type": "markdown",
   "metadata": {},
   "source": [
    "## 9. Закрепление знаний"
   ]
  },
  {
   "cell_type": "code",
   "execution_count": null,
   "metadata": {},
   "outputs": [],
   "source": [
    "gender — пол;\n",
    "race/ethnicity — раса/этническая принадлежность;\n",
    "parental level of education — уровень образования родителей;\n",
    "lunch — какие обеды получал студент во время обучения (standard — платный, free/reduced — бесплатный);\n",
    "test preparation course — посещал ли студент курсы подготовки к экзаменам (none — не посещал, completed — посещал);\n",
    "math score, reading score, writing score — баллы по математике, чтению и письму по сто балльной шкале."
   ]
  },
  {
   "cell_type": "code",
   "execution_count": null,
   "metadata": {},
   "outputs": [],
   "source": [
    "student_data = pd.read_csv('C:/Users/User/OneDrive/Рабочий стол/IDE/PYTHON-10. Введение в Pandas/data/students_performance.csv', sep=',')\n",
    "student_data.head()\n",
    "\n",
    "print(student_data.shape)\n",
    "\n",
    "print(student_data.iloc[155])\n",
    "\n",
    "print(student_data.info())\n",
    "\n",
    "print(student_data['math score'].mean())\n",
    "\n",
    "print(student_data['race/ethnicity'].mode())\n",
    "\n",
    "print(student_data[student_data['test preparation course'] == 'completed' ]['reading score'].mean())\n",
    "\n",
    "print(student_data[student_data['math score'] == 0].shape[0])\n",
    "\n",
    "#Проверьте гипотезу: у студентов с оплачиваемым питанием средний балл по математике выше, чем у студентов с льготным питанием.\n",
    "\n",
    "payed = student_data[student_data['lunch'] == 'standard']['math score'].mean()\n",
    "nonpayed = student_data[student_data['lunch'] == 'free/reduced']['math score'].mean()\n",
    "result = payed-nonpayed\n",
    "print(result)\n",
    "\n",
    "print(payed,nonpayed)\n",
    "\n",
    "#Каков процент студентов, родители которых имеют высшее образование уровня бакалавриата (bachelor's degree)?\n",
    "\n",
    "check = student_data[student_data['parental level of education'] == \"bachelor's degree\"].shape[0]/student_data['parental level of education'].shape[0]*100\n",
    "print(check)"
   ]
  },
  {
   "cell_type": "code",
   "execution_count": null,
   "metadata": {},
   "outputs": [],
   "source": [
    "#Насколько медианный балл по письму у студентов в расовой группе А отличается от среднего балла по письму у студентов в расовой группе C?\n",
    "score_a = student_data[student_data['race/ethnicity'] == 'group A' ]['writing score'].median()\n",
    "score_c = student_data[student_data['race/ethnicity'] == 'group C' ]['writing score'].mean()\n",
    "result = score_a-score_c\n",
    "print(result)"
   ]
  }
 ],
 "metadata": {
  "kernelspec": {
   "display_name": "Python 3",
   "language": "python",
   "name": "python3"
  },
  "language_info": {
   "name": "python",
   "version": "3.9.10"
  },
  "orig_nbformat": 4
 },
 "nbformat": 4,
 "nbformat_minor": 2
}
